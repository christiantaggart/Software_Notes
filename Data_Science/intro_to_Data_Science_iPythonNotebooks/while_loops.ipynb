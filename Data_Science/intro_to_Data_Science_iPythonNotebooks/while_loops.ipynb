{
 "cells": [
  {
   "cell_type": "markdown",
   "metadata": {},
   "source": [
    "# and, or, not"
   ]
  },
  {
   "cell_type": "code",
   "execution_count": 2,
   "metadata": {},
   "outputs": [
    {
     "name": "stdout",
     "output_type": "stream",
     "text": [
      "win\n"
     ]
    }
   ],
   "source": [
    "x = 65\n",
    "# inverts the output\n",
    "if not(x < 60 or x > 70):\n",
    "    print('win')"
   ]
  },
  {
   "cell_type": "markdown",
   "metadata": {},
   "source": [
    "# While Loops\n"
   ]
  },
  {
   "cell_type": "code",
   "execution_count": 4,
   "metadata": {},
   "outputs": [
    {
     "name": "stdout",
     "output_type": "stream",
     "text": [
      "36\n"
     ]
    }
   ],
   "source": [
    "total = 0\n",
    "end = 9\n",
    "i = 0\n",
    "while i < end:\n",
    "    total += i\n",
    "    i += 1\n",
    "print(total)"
   ]
  },
  {
   "cell_type": "code",
   "execution_count": 10,
   "metadata": {},
   "outputs": [
    {
     "name": "stdout",
     "output_type": "stream",
     "text": [
      "1 2\n",
      "3 3\n",
      "6 4\n",
      "10 5\n",
      "16 7\n",
      "23 8\n",
      "31 9\n",
      "31\n"
     ]
    }
   ],
   "source": [
    "total, x = 0, 1\n",
    "while x <= 8:\n",
    "    if x == 5:\n",
    "        x += 1\n",
    "        continue\n",
    "    total += x\n",
    "    x += 1\n",
    "    print(total, x)\n",
    "print(total)"
   ]
  },
  {
   "cell_type": "code",
   "execution_count": 12,
   "metadata": {},
   "outputs": [
    {
     "name": "stdout",
     "output_type": "stream",
     "text": [
      "1 2\n",
      "3 3\n",
      "6 4\n",
      "10 5\n",
      "16 7\n",
      "23 8\n",
      "31 9\n",
      "31\n"
     ]
    }
   ],
   "source": [
    "# rewritten without stupid `continue`\n",
    "total, x = 0, 1\n",
    "while x <= 8:\n",
    "    if x == 5:\n",
    "        x += 1\n",
    "    else:\n",
    "        total += x\n",
    "        x += 1\n",
    "        print(total, x)\n",
    "print(total)\n"
   ]
  },
  {
   "cell_type": "code",
   "execution_count": 18,
   "metadata": {},
   "outputs": [
    {
     "name": "stdout",
     "output_type": "stream",
     "text": [
      "The sum exceeded the max value of 25.\n",
      "25\n"
     ]
    }
   ],
   "source": [
    "total, x = 0, 1\n",
    "while x <= 8:\n",
    "    if total > 25:\n",
    "        total = 25\n",
    "        print('The sum exceeded the max value of 25.')\n",
    "        break\n",
    "    total += x\n",
    "    x += 1\n",
    "print(total)"
   ]
  },
  {
   "cell_type": "code",
   "execution_count": null,
   "metadata": {},
   "outputs": [],
   "source": []
  }
 ],
 "metadata": {
  "kernelspec": {
   "display_name": "Python 3",
   "language": "python",
   "name": "python3"
  },
  "language_info": {
   "codemirror_mode": {
    "name": "ipython",
    "version": 3
   },
   "file_extension": ".py",
   "mimetype": "text/x-python",
   "name": "python",
   "nbconvert_exporter": "python",
   "pygments_lexer": "ipython3",
   "version": "3.7.0"
  }
 },
 "nbformat": 4,
 "nbformat_minor": 2
}
